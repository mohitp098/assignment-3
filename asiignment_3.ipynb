{
 "cells": [
  {
   "cell_type": "code",
   "execution_count": 2,
   "id": "ef06143b",
   "metadata": {},
   "outputs": [],
   "source": [
    "## Write a Python function to sum all the numbers in a list.\n",
    "\n",
    "def sumer(list1):\n",
    "    total = 0\n",
    "    for x in list1:\n",
    "        total += x\n",
    "    return total\n",
    "    \n",
    "\n",
    "        \n"
   ]
  },
  {
   "cell_type": "code",
   "execution_count": 4,
   "id": "4055f699",
   "metadata": {},
   "outputs": [
    {
     "name": "stdout",
     "output_type": "stream",
     "text": [
      "20\n"
     ]
    }
   ],
   "source": [
    "list1 = (8, 2, 3, 0, 7) \n",
    "print(sumer(list1))\n"
   ]
  },
  {
   "cell_type": "code",
   "execution_count": 2,
   "id": "b92e8647",
   "metadata": {},
   "outputs": [
    {
     "name": "stdout",
     "output_type": "stream",
     "text": [
      "dcba4321\n"
     ]
    }
   ],
   "source": [
    "##Write a Python program to reverse a string.\n",
    "\n",
    "string1 = \"1234abcd\"\n",
    "mirror = string1[::-1]\n",
    "print(mirror)"
   ]
  },
  {
   "cell_type": "code",
   "execution_count": 9,
   "id": "ab6b3fdf",
   "metadata": {},
   "outputs": [
    {
     "name": "stdout",
     "output_type": "stream",
     "text": [
      " String :  The quick Brow Fox\n",
      "No. of Upper case characters :  3\n",
      "No. of Lower case Characters :  12\n"
     ]
    }
   ],
   "source": [
    "## Write a Python function that accepts a string and calculate the number of upper case letters and lower case letters.def string_test(s):\n",
    "\n",
    "def string_analyser(s):\n",
    "    m = {\"UPPER_CASE\":0, \"LOWER_CASE\":0}\n",
    "    for x in s:\n",
    "        if x.isupper():\n",
    "              m[\"UPPER_CASE\"]+=1\n",
    "        elif x.islower():\n",
    "              m[\"LOWER_CASE\"]+=1\n",
    "                \n",
    "    print (\" String : \", s)\n",
    "    print (\"No. of Upper case characters : \", m[\"UPPER_CASE\"])\n",
    "    print (\"No. of Lower case Characters : \", m[\"LOWER_CASE\"])\n",
    "\n",
    "string_analyser('The quick Brow Fox')\n",
    "\n",
    "    "
   ]
  },
  {
   "cell_type": "code",
   "execution_count": null,
   "id": "b06aa18f",
   "metadata": {},
   "outputs": [],
   "source": []
  }
 ],
 "metadata": {
  "kernelspec": {
   "display_name": "Python 3 (ipykernel)",
   "language": "python",
   "name": "python3"
  },
  "language_info": {
   "codemirror_mode": {
    "name": "ipython",
    "version": 3
   },
   "file_extension": ".py",
   "mimetype": "text/x-python",
   "name": "python",
   "nbconvert_exporter": "python",
   "pygments_lexer": "ipython3",
   "version": "3.9.6"
  }
 },
 "nbformat": 4,
 "nbformat_minor": 5
}
